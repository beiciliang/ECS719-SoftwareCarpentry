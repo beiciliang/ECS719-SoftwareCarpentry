{
 "cells": [
  {
   "cell_type": "markdown",
   "metadata": {},
   "source": [
    "# Version Control\n",
    "\n",
    "In any software development, one of the most important tools is revision control software such as GIT (`git`) and Mercurial (`hg`). \n",
    "\n",
    "In the rest of this lecture we will look at `git`, although `hg` is just as good and works in almost exactly the same way.\n",
    "\n",
    "The source code or digital content is stored in a **repository**.\n",
    "\n",
    "The repository does not only contain the latest version of all files, but the complete history of all changes to the files since they were added to the repository.\n",
    "\n",
    "A user can **checkout** the repository, and obtain a local working copy of the files. All changes are made to the files in the local working directory, where files can be added, removed and updated.\n",
    "\n",
    "When a task has been completed, the changes to the local files are **commited** (saved to the repository).\n",
    "\n",
    "If someone else has been making changes to the same files, a **conflict** can occur. In many cases conflicts can be resolved automatically by the system, but in some cases we might manually have to **merge** different changes together.\n",
    "\n",
    "It is often useful to create a new **branch** in a repository, or a **fork** or **clone** of an entire repository, when we doing larger experimental development. The main branch in a repository is called often **master**. When work on a branch or fork is completed, it can be merged in to the master branch/repository.\n",
    "\n",
    "With GIT or Mercurial, we can **pull** and **push** changesets between different repositories. For example, between a local copy of there repository to a central online reposistory (for example on a community repository host site like github.com)."
   ]
  },
  {
   "cell_type": "markdown",
   "metadata": {},
   "source": [
    "### 1. Creat a repository\n",
    "\n",
    "To create a brand new empty repository, we can use the command `git init repository-name`:"
   ]
  },
  {
   "cell_type": "code",
   "execution_count": 1,
   "metadata": {},
   "outputs": [
    {
     "name": "stdout",
     "output_type": "stream",
     "text": [
      "Initialized empty Git repository in /Users/BeiciLiang/GitHub/ECS719-SoftwareCarpentry/gitdemo/.git/\r\n"
     ]
    }
   ],
   "source": [
    "!git init gitdemo"
   ]
  },
  {
   "cell_type": "markdown",
   "metadata": {},
   "source": [
    "Using the command `git status`\n",
    "we get a summary of the current status of the working directory. It shows if we have modified, added or removed files."
   ]
  },
  {
   "cell_type": "code",
   "execution_count": 11,
   "metadata": {},
   "outputs": [
    {
     "name": "stdout",
     "output_type": "stream",
     "text": [
      "/Users/BeiciLiang/GitHub/ECS719-SoftwareCarpentry/gitdemo\n"
     ]
    }
   ],
   "source": [
    "cd gitdemo"
   ]
  },
  {
   "cell_type": "code",
   "execution_count": 13,
   "metadata": {},
   "outputs": [
    {
     "name": "stdout",
     "output_type": "stream",
     "text": [
      "On branch master\r\n",
      "\r\n",
      "Initial commit\r\n",
      "\r\n",
      "nothing to commit (create/copy files and use \"git add\" to track)\r\n"
     ]
    }
   ],
   "source": [
    "!git status"
   ]
  },
  {
   "cell_type": "markdown",
   "metadata": {},
   "source": [
    "### 2. Add files\n",
    "\n",
    "To add a new file to the repository, we first create the file and then use the `git add filename` command.\n",
    "\n",
    "There are a couple of ways to write the sentence \"A file with information about the gitdemo repository.\" into a file named README.\n",
    "\n",
    "- in terminal, run the command `nano README`, then type the sentence, and use `CTRL`+`O` to write out, finally use `CTRL`+`X` to exit;\n",
    "\n",
    "- or run the command `echo \"A file with information about the gitdemo repository.\" > README` to print the sentence into the file;\n",
    "\n",
    "- in Jupyter Notebook, there are built-in cell magics such as `%%file` to help you write the contents of the cell to a file.\n"
   ]
  },
  {
   "cell_type": "code",
   "execution_count": 15,
   "metadata": {},
   "outputs": [
    {
     "name": "stdout",
     "output_type": "stream",
     "text": [
      "Writing README\n"
     ]
    }
   ],
   "source": [
    "%%file README\n",
    "\n",
    "A file with information about the gitdemo repository."
   ]
  },
  {
   "cell_type": "code",
   "execution_count": 16,
   "metadata": {},
   "outputs": [
    {
     "name": "stdout",
     "output_type": "stream",
     "text": [
      "On branch master\r\n",
      "\r\n",
      "Initial commit\r\n",
      "\r\n",
      "Untracked files:\r\n",
      "  (use \"git add <file>...\" to include in what will be committed)\r\n",
      "\r\n",
      "\t\u001b[31mREADME\u001b[m\r\n",
      "\r\n",
      "nothing added to commit but untracked files present (use \"git add\" to track)\r\n"
     ]
    }
   ],
   "source": [
    "!git status"
   ]
  },
  {
   "cell_type": "markdown",
   "metadata": {},
   "source": [
    "After having added the file README, the command `git status` list it as an untracked file."
   ]
  },
  {
   "cell_type": "code",
   "execution_count": 17,
   "metadata": {},
   "outputs": [],
   "source": [
    "!git add README"
   ]
  },
  {
   "cell_type": "code",
   "execution_count": 18,
   "metadata": {},
   "outputs": [
    {
     "name": "stdout",
     "output_type": "stream",
     "text": [
      "On branch master\r\n",
      "\r\n",
      "Initial commit\r\n",
      "\r\n",
      "Changes to be committed:\r\n",
      "  (use \"git rm --cached <file>...\" to unstage)\r\n",
      "\r\n",
      "\t\u001b[32mnew file:   README\u001b[m\r\n",
      "\r\n"
     ]
    }
   ],
   "source": [
    "!git status"
   ]
  },
  {
   "cell_type": "markdown",
   "metadata": {},
   "source": [
    "Now that it has been added, it is listed as a new file that has not yet been commited to the repository.\n",
    "\n",
    "### 3. Commit "
   ]
  },
  {
   "cell_type": "code",
   "execution_count": 19,
   "metadata": {},
   "outputs": [
    {
     "name": "stdout",
     "output_type": "stream",
     "text": [
      "[master (root-commit) 42fafb8] Added a README file\r\n",
      " 1 file changed, 2 insertions(+)\r\n",
      " create mode 100644 README\r\n"
     ]
    }
   ],
   "source": [
    "!git commit -m \"Added a README file\" README"
   ]
  },
  {
   "cell_type": "code",
   "execution_count": 20,
   "metadata": {},
   "outputs": [
    {
     "name": "stdout",
     "output_type": "stream",
     "text": [
      "On branch master\r\n",
      "nothing to commit, working tree clean\r\n"
     ]
    }
   ],
   "source": [
    "!git status"
   ]
  },
  {
   "cell_type": "markdown",
   "metadata": {},
   "source": [
    "When files that is tracked by GIT are changed, they are listed as modified by `git status`:"
   ]
  },
  {
   "cell_type": "code",
   "execution_count": 21,
   "metadata": {},
   "outputs": [
    {
     "name": "stdout",
     "output_type": "stream",
     "text": [
      "Overwriting README\n"
     ]
    }
   ],
   "source": [
    "%%file README\n",
    "\n",
    "A file with information about the gitdemo repository.\n",
    "\n",
    "A new line."
   ]
  },
  {
   "cell_type": "code",
   "execution_count": 22,
   "metadata": {},
   "outputs": [
    {
     "name": "stdout",
     "output_type": "stream",
     "text": [
      "On branch master\r\n",
      "Changes not staged for commit:\r\n",
      "  (use \"git add <file>...\" to update what will be committed)\r\n",
      "  (use \"git checkout -- <file>...\" to discard changes in working directory)\r\n",
      "\r\n",
      "\t\u001b[31mmodified:   README\u001b[m\r\n",
      "\r\n",
      "no changes added to commit (use \"git add\" and/or \"git commit -a\")\r\n"
     ]
    }
   ],
   "source": [
    "!git status"
   ]
  },
  {
   "cell_type": "markdown",
   "metadata": {},
   "source": [
    "Again, we can commit such changes to the repository using the `git commit -m \"message\"` command."
   ]
  },
  {
   "cell_type": "code",
   "execution_count": 23,
   "metadata": {},
   "outputs": [
    {
     "name": "stdout",
     "output_type": "stream",
     "text": [
      "[master e85e791] added one more line in README\r\n",
      " 1 file changed, 3 insertions(+), 1 deletion(-)\r\n"
     ]
    }
   ],
   "source": [
    "!git commit -m \"added one more line in README\" README"
   ]
  },
  {
   "cell_type": "code",
   "execution_count": 24,
   "metadata": {},
   "outputs": [
    {
     "name": "stdout",
     "output_type": "stream",
     "text": [
      "On branch master\r\n",
      "nothing to commit, working tree clean\r\n"
     ]
    }
   ],
   "source": [
    "!git status"
   ]
  },
  {
   "cell_type": "markdown",
   "metadata": {},
   "source": [
    "### 4. Remove files\n",
    "\n",
    "To remove file that has been added to the repository, use `git rm filename`, which works similar to `git add filename`:"
   ]
  },
  {
   "cell_type": "code",
   "execution_count": 26,
   "metadata": {},
   "outputs": [
    {
     "name": "stdout",
     "output_type": "stream",
     "text": [
      "Writing tmpfile\n"
     ]
    }
   ],
   "source": [
    "%%file tmpfile\n",
    "\n",
    "A short-lived file."
   ]
  },
  {
   "cell_type": "markdown",
   "metadata": {},
   "source": [
    "Add it:"
   ]
  },
  {
   "cell_type": "code",
   "execution_count": 27,
   "metadata": {},
   "outputs": [],
   "source": [
    "!git add tmpfile"
   ]
  },
  {
   "cell_type": "code",
   "execution_count": 28,
   "metadata": {},
   "outputs": [
    {
     "name": "stdout",
     "output_type": "stream",
     "text": [
      "[master 6608496] adding file tmpfile\r\n",
      " 1 file changed, 2 insertions(+)\r\n",
      " create mode 100644 tmpfile\r\n"
     ]
    }
   ],
   "source": [
    "!git commit -m \"adding file tmpfile\" tmpfile"
   ]
  },
  {
   "cell_type": "markdown",
   "metadata": {},
   "source": [
    "Remove it again:"
   ]
  },
  {
   "cell_type": "code",
   "execution_count": 29,
   "metadata": {},
   "outputs": [
    {
     "name": "stdout",
     "output_type": "stream",
     "text": [
      "rm 'tmpfile'\r\n"
     ]
    }
   ],
   "source": [
    "!git rm tmpfile"
   ]
  },
  {
   "cell_type": "code",
   "execution_count": 30,
   "metadata": {},
   "outputs": [
    {
     "name": "stdout",
     "output_type": "stream",
     "text": [
      "[master b810ca8] remove file tmpfile\r\n",
      " 1 file changed, 2 deletions(-)\r\n",
      " delete mode 100644 tmpfile\r\n"
     ]
    }
   ],
   "source": [
    "!git commit -m \"remove file tmpfile\" tmpfile"
   ]
  },
  {
   "cell_type": "markdown",
   "metadata": {},
   "source": [
    "### 5. Commit Logs\n",
    "\n",
    "The messages that are added to the commit command are supposed to give a short (often one-line) description of the changes/additions/deletions in the commit. If the `-m \"message\"` is omitted when invoking the git commit message an editor will be opened for you to type a commit message (for example useful when a longer commit message is requried).\n",
    "\n",
    "We can look at the revision log by using the command `git log`:"
   ]
  },
  {
   "cell_type": "code",
   "execution_count": 34,
   "metadata": {},
   "outputs": [
    {
     "name": "stdout",
     "output_type": "stream",
     "text": [
      "\u001b[33mcommit b810ca89e9896166310ba3ad2d29bd46b9f9e9ff\u001b[m\r\n",
      "Author: beiciliang <liangbeici@gmail.com>\r\n",
      "Date:   Tue Mar 13 00:30:58 2018 +0000\r\n",
      "\r\n",
      "    remove file tmpfile\r\n",
      "\r\n",
      "\u001b[33mcommit 6608496f16fbcc9f90a1953bc70df1382b120fb4\u001b[m\r\n",
      "Author: beiciliang <liangbeici@gmail.com>\r\n",
      "Date:   Tue Mar 13 00:30:32 2018 +0000\r\n",
      "\r\n",
      "    adding file tmpfile\r\n",
      "\r\n",
      "\u001b[33mcommit e85e7917bdd47e73e1c5288484c4b6288b39d692\u001b[m\r\n",
      "Author: beiciliang <liangbeici@gmail.com>\r\n",
      "Date:   Tue Mar 13 00:28:34 2018 +0000\r\n",
      "\r\n",
      "    added one more line in README\r\n",
      "\r\n",
      "\u001b[33mcommit 42fafb866758b1924224aa95dafd667dc848eb1a\u001b[m\r\n",
      "Author: beiciliang <liangbeici@gmail.com>\r\n",
      "Date:   Tue Mar 13 00:23:10 2018 +0000\r\n",
      "\r\n",
      "    Added a README file\r\n"
     ]
    }
   ],
   "source": [
    "!git log"
   ]
  },
  {
   "cell_type": "markdown",
   "metadata": {},
   "source": [
    "### 6. Diffs\n",
    "\n",
    "All commits results in a changeset, which has a \"diff\" describing the changes to the file associated with it. We can use `git diff` so see what has changed in a file:"
   ]
  },
  {
   "cell_type": "code",
   "execution_count": 35,
   "metadata": {},
   "outputs": [
    {
     "name": "stdout",
     "output_type": "stream",
     "text": [
      "Overwriting README\n"
     ]
    }
   ],
   "source": [
    "%%file README\n",
    "\n",
    "A file with information about the gitdemo repository.\n",
    "\n",
    "README files usually contains installation instructions, and information about how to get started using the software (for example)."
   ]
  },
  {
   "cell_type": "code",
   "execution_count": 36,
   "metadata": {},
   "outputs": [
    {
     "name": "stdout",
     "output_type": "stream",
     "text": [
      "\u001b[1mdiff --git a/README b/README\u001b[m\r\n",
      "\u001b[1mindex 4f51868..d3951c6 100644\u001b[m\r\n",
      "\u001b[1m--- a/README\u001b[m\r\n",
      "\u001b[1m+++ b/README\u001b[m\r\n",
      "\u001b[36m@@ -1,4 +1,4 @@\u001b[m\r\n",
      " \u001b[m\r\n",
      " A file with information about the gitdemo repository.\u001b[m\r\n",
      " \u001b[m\r\n",
      "\u001b[31m-A new line.\u001b[m\r\n",
      "\\ No newline at end of file\u001b[m\r\n",
      "\u001b[32m+\u001b[m\u001b[32mREADME files usually contains installation instructions, and information about how to get started using the software (for example).\u001b[m\r\n",
      "\\ No newline at end of file\u001b[m\r\n"
     ]
    }
   ],
   "source": [
    "!git diff README"
   ]
  },
  {
   "cell_type": "markdown",
   "metadata": {},
   "source": [
    "### 7. Discard changes\n",
    "\n",
    "To discard a change (revert to the latest version in the repository) we can use the checkout command like this:"
   ]
  },
  {
   "cell_type": "code",
   "execution_count": 37,
   "metadata": {},
   "outputs": [],
   "source": [
    "!git checkout -- README"
   ]
  },
  {
   "cell_type": "code",
   "execution_count": 38,
   "metadata": {},
   "outputs": [
    {
     "name": "stdout",
     "output_type": "stream",
     "text": [
      "On branch master\r\n",
      "nothing to commit, working tree clean\r\n"
     ]
    }
   ],
   "source": [
    "!git status"
   ]
  },
  {
   "cell_type": "markdown",
   "metadata": {},
   "source": [
    "If we want to get the code for a specific revision, we can use `git checkout` and giving it the hash code for the revision we are interested as argument:"
   ]
  },
  {
   "cell_type": "code",
   "execution_count": 39,
   "metadata": {},
   "outputs": [
    {
     "name": "stdout",
     "output_type": "stream",
     "text": [
      "Note: checking out '42fafb866758b1924224aa95dafd667dc848eb1a'.\r\n",
      "\r\n",
      "You are in 'detached HEAD' state. You can look around, make experimental\r\n",
      "changes and commit them, and you can discard any commits you make in this\r\n",
      "state without impacting any branches by performing another checkout.\r\n",
      "\r\n",
      "If you want to create a new branch to retain commits you create, you may\r\n",
      "do so (now or later) by using -b with the checkout command again. Example:\r\n",
      "\r\n",
      "  git checkout -b <new-branch-name>\r\n",
      "\r\n",
      "HEAD is now at 42fafb8... Added a README file\r\n"
     ]
    }
   ],
   "source": [
    "# Change the hash code to one of yours shown in the git log\n",
    "!git checkout 42fafb866758b1924224aa95dafd667dc848eb1a"
   ]
  },
  {
   "cell_type": "markdown",
   "metadata": {},
   "source": [
    "Now the content of all the files like in the revision with the hash code listed above (first revision)"
   ]
  },
  {
   "cell_type": "code",
   "execution_count": 40,
   "metadata": {},
   "outputs": [
    {
     "name": "stdout",
     "output_type": "stream",
     "text": [
      "\r\n",
      "A file with information about the gitdemo repository."
     ]
    }
   ],
   "source": [
    "!cat README"
   ]
  },
  {
   "cell_type": "markdown",
   "metadata": {},
   "source": [
    "We can move back to \"the latest\" (master) with the command:"
   ]
  },
  {
   "cell_type": "code",
   "execution_count": 42,
   "metadata": {},
   "outputs": [
    {
     "name": "stdout",
     "output_type": "stream",
     "text": [
      "Previous HEAD position was 42fafb8... Added a README file\r\n",
      "Switched to branch 'master'\r\n"
     ]
    }
   ],
   "source": [
    "!git checkout master"
   ]
  },
  {
   "cell_type": "code",
   "execution_count": 43,
   "metadata": {},
   "outputs": [
    {
     "name": "stdout",
     "output_type": "stream",
     "text": [
      "\r\n",
      "A file with information about the gitdemo repository.\r\n",
      "\r\n",
      "A new line."
     ]
    }
   ],
   "source": [
    "!cat README"
   ]
  },
  {
   "cell_type": "code",
   "execution_count": 44,
   "metadata": {},
   "outputs": [
    {
     "name": "stdout",
     "output_type": "stream",
     "text": [
      "On branch master\r\n",
      "nothing to commit, working tree clean\r\n"
     ]
    }
   ],
   "source": [
    "!git status"
   ]
  },
  {
   "cell_type": "markdown",
   "metadata": {},
   "source": [
    "### 8. Branches\n",
    "\n",
    "With branches we can create diverging code bases in the same repository. They are for example useful for experimental development that requires a lot of code changes that could break the functionality in the master branch. Once the development of a branch has reached a stable state it can always be merged back into the trunk. Branching-development-merging is a good development strategy when serveral people are involved in working on the same code base. But even in single author repositories it can often be useful to always keep the master branch in a working state, and always branch/fork before implementing a new feature, and later merge it back into the main trunk.\n",
    "\n",
    "In GIT, we can create a new branch like this:"
   ]
  },
  {
   "cell_type": "code",
   "execution_count": 45,
   "metadata": {},
   "outputs": [],
   "source": [
    "!git branch expr1"
   ]
  },
  {
   "cell_type": "markdown",
   "metadata": {},
   "source": [
    "We can list the existing branches like this:"
   ]
  },
  {
   "cell_type": "code",
   "execution_count": 46,
   "metadata": {},
   "outputs": [
    {
     "name": "stdout",
     "output_type": "stream",
     "text": [
      "  expr1\u001b[m\r\n",
      "* \u001b[32mmaster\u001b[m\r\n"
     ]
    }
   ],
   "source": [
    "!git branch"
   ]
  },
  {
   "cell_type": "markdown",
   "metadata": {},
   "source": [
    "And we can switch between branches using checkout:"
   ]
  },
  {
   "cell_type": "code",
   "execution_count": 47,
   "metadata": {},
   "outputs": [
    {
     "name": "stdout",
     "output_type": "stream",
     "text": [
      "Switched to branch 'expr1'\r\n"
     ]
    }
   ],
   "source": [
    "!git checkout expr1"
   ]
  },
  {
   "cell_type": "markdown",
   "metadata": {},
   "source": [
    "\n",
    "Make a change in the new branch."
   ]
  },
  {
   "cell_type": "code",
   "execution_count": 48,
   "metadata": {},
   "outputs": [
    {
     "name": "stdout",
     "output_type": "stream",
     "text": [
      "Overwriting README\n"
     ]
    }
   ],
   "source": [
    "%%file README\n",
    "\n",
    "A file with information about the gitdemo repository.\n",
    "\n",
    "README files usually contains installation instructions, and information about how to get started using the software (for example).\n",
    "\n",
    "Experimental addition."
   ]
  },
  {
   "cell_type": "code",
   "execution_count": 49,
   "metadata": {},
   "outputs": [
    {
     "name": "stdout",
     "output_type": "stream",
     "text": [
      "[expr1 c5d52aa] added a line in expr1 branch\r\n",
      " 1 file changed, 3 insertions(+), 1 deletion(-)\r\n"
     ]
    }
   ],
   "source": [
    "!git commit -m \"added a line in expr1 branch\" README"
   ]
  },
  {
   "cell_type": "code",
   "execution_count": 50,
   "metadata": {},
   "outputs": [
    {
     "name": "stdout",
     "output_type": "stream",
     "text": [
      "* \u001b[32mexpr1\u001b[m\r\n",
      "  master\u001b[m\r\n"
     ]
    }
   ],
   "source": [
    "!git branch"
   ]
  },
  {
   "cell_type": "markdown",
   "metadata": {},
   "source": [
    "We can merge an existing branch and all its changesets into another branch (for example the master branch) like this:\n",
    "\n",
    "First change to the target branch:"
   ]
  },
  {
   "cell_type": "code",
   "execution_count": 53,
   "metadata": {},
   "outputs": [
    {
     "name": "stdout",
     "output_type": "stream",
     "text": [
      "Already on 'master'\r\n"
     ]
    }
   ],
   "source": [
    "!git checkout master"
   ]
  },
  {
   "cell_type": "code",
   "execution_count": 54,
   "metadata": {},
   "outputs": [
    {
     "name": "stdout",
     "output_type": "stream",
     "text": [
      "Updating b810ca8..c5d52aa\r\n",
      "Fast-forward\r\n",
      " README | 4 \u001b[32m+++\u001b[m\u001b[31m-\u001b[m\r\n",
      " 1 file changed, 3 insertions(+), 1 deletion(-)\r\n"
     ]
    }
   ],
   "source": [
    "!git merge expr1"
   ]
  },
  {
   "cell_type": "code",
   "execution_count": 55,
   "metadata": {},
   "outputs": [
    {
     "name": "stdout",
     "output_type": "stream",
     "text": [
      "  expr1\u001b[m\r\n",
      "* \u001b[32mmaster\u001b[m\r\n"
     ]
    }
   ],
   "source": [
    "!git branch"
   ]
  },
  {
   "cell_type": "markdown",
   "metadata": {},
   "source": [
    "We can delete the branch expr1 now that it has been merged into the master:"
   ]
  },
  {
   "cell_type": "code",
   "execution_count": 56,
   "metadata": {},
   "outputs": [
    {
     "name": "stdout",
     "output_type": "stream",
     "text": [
      "Deleted branch expr1 (was c5d52aa).\r\n"
     ]
    }
   ],
   "source": [
    "!git branch -d expr1"
   ]
  },
  {
   "cell_type": "code",
   "execution_count": 57,
   "metadata": {},
   "outputs": [
    {
     "name": "stdout",
     "output_type": "stream",
     "text": [
      "* \u001b[32mmaster\u001b[m\r\n"
     ]
    }
   ],
   "source": [
    "!git branch"
   ]
  },
  {
   "cell_type": "code",
   "execution_count": 58,
   "metadata": {},
   "outputs": [
    {
     "name": "stdout",
     "output_type": "stream",
     "text": [
      "\r\n",
      "A file with information about the gitdemo repository.\r\n",
      "\r\n",
      "README files usually contains installation instructions, and information about how to get started using the software (for example).\r\n",
      "\r\n",
      "Experimental addition."
     ]
    }
   ],
   "source": [
    "!cat README"
   ]
  },
  {
   "cell_type": "markdown",
   "metadata": {},
   "source": [
    "### 9. Pull and Push\n",
    "\n",
    "If the respository has been cloned from another repository, for example on github.com, it automatically remembers the address of the parant repository (called origin):"
   ]
  },
  {
   "cell_type": "code",
   "execution_count": 62,
   "metadata": {},
   "outputs": [],
   "source": [
    "!git remote"
   ]
  },
  {
   "cell_type": "code",
   "execution_count": 63,
   "metadata": {},
   "outputs": [
    {
     "name": "stdout",
     "output_type": "stream",
     "text": [
      "fatal: 'origin' does not appear to be a git repository\r\n",
      "fatal: Could not read from remote repository.\r\n",
      "\r\n",
      "Please make sure you have the correct access rights\r\n",
      "and the repository exists.\r\n"
     ]
    }
   ],
   "source": [
    "!git remote show origin"
   ]
  },
  {
   "cell_type": "markdown",
   "metadata": {},
   "source": [
    "Here we didn't specify the remote repository before, so it could not be read. \n",
    "\n",
    "Now let's creat a new repository called *gitdemo* at Github.\n",
    "\n",
    "Github.com is a git repository hosting site that is very popular with both open source projects (for which it is free) and private repositories (for which a subscription might be needed). With a hosted repository it easy to collaborate with colleagues on the same code base, and you get a graphical user interface where you can browse the code and look at commit logs, track issues etc.\n",
    "\n",
    "To push our existing repository to the hosted repository:"
   ]
  },
  {
   "cell_type": "code",
   "execution_count": 65,
   "metadata": {},
   "outputs": [],
   "source": [
    "# Please change beciliang to your own github username\n",
    "!git remote add origin https://github.com/beiciliang/gitdemo.git"
   ]
  },
  {
   "cell_type": "code",
   "execution_count": 67,
   "metadata": {},
   "outputs": [
    {
     "name": "stdout",
     "output_type": "stream",
     "text": [
      "* remote origin\r\n",
      "  Fetch URL: https://github.com/beiciliang/gitdemo.git\r\n",
      "  Push  URL: https://github.com/beiciliang/gitdemo.git\r\n",
      "  HEAD branch: (unknown)\r\n"
     ]
    }
   ],
   "source": [
    "!git remote show origin"
   ]
  },
  {
   "cell_type": "code",
   "execution_count": 68,
   "metadata": {},
   "outputs": [
    {
     "name": "stdout",
     "output_type": "stream",
     "text": [
      "Counting objects: 13, done.\r\n",
      "Delta compression using up to 4 threads.\r\n",
      "Compressing objects:  11% (1/9)   \r",
      "Compressing objects:  22% (2/9)   \r",
      "Compressing objects:  33% (3/9)   \r",
      "Compressing objects:  44% (4/9)   \r",
      "Compressing objects:  55% (5/9)   \r",
      "Compressing objects:  66% (6/9)   \r",
      "Compressing objects:  77% (7/9)   \r",
      "Compressing objects:  88% (8/9)   \r",
      "Compressing objects: 100% (9/9)   \r",
      "Compressing objects: 100% (9/9), done.\r\n",
      "Writing objects:   7% (1/13)   \r",
      "Writing objects:  23% (3/13)   \r",
      "Writing objects:  30% (4/13)   \r",
      "Writing objects:  38% (5/13)   \r",
      "Writing objects:  46% (6/13)   \r",
      "Writing objects:  53% (7/13)   \r",
      "Writing objects:  61% (8/13)   \r",
      "Writing objects:  69% (9/13)   \r",
      "Writing objects:  76% (10/13)   \r",
      "Writing objects:  84% (11/13)   \r",
      "Writing objects:  92% (12/13)   \r",
      "Writing objects: 100% (13/13)   \r",
      "Writing objects: 100% (13/13), 1.19 KiB | 0 bytes/s, done.\r\n",
      "Total 13 (delta 2), reused 0 (delta 0)\r\n",
      "remote: Resolving deltas:   0% (0/2)   \u001b[K\r",
      "remote: Resolving deltas:  50% (1/2)   \u001b[K\r",
      "remote: Resolving deltas: 100% (2/2)   \u001b[K\r",
      "remote: Resolving deltas: 100% (2/2), done.\u001b[K\r\n",
      "To https://github.com/beiciliang/gitdemo.git\r\n",
      " * [new branch]      master -> master\r\n",
      "Branch master set up to track remote branch master from origin.\r\n"
     ]
    }
   ],
   "source": [
    "!git push -u origin master"
   ]
  },
  {
   "cell_type": "markdown",
   "metadata": {},
   "source": [
    "We can retrieve updates from the origin repository by \"pulling\" changesets from \"origin\" to our repository:"
   ]
  },
  {
   "cell_type": "code",
   "execution_count": 69,
   "metadata": {},
   "outputs": [
    {
     "name": "stdout",
     "output_type": "stream",
     "text": [
      "Already up-to-date.\r\n"
     ]
    }
   ],
   "source": [
    "!git pull origin"
   ]
  },
  {
   "cell_type": "markdown",
   "metadata": {},
   "source": [
    "We can register addresses to many different repositories, and pull in different changesets from different sources, but the default source is the origin from where the repository was first cloned (and the work origin could have been omitted from the line above)."
   ]
  }
 ],
 "metadata": {
  "kernelspec": {
   "display_name": "Python 2",
   "language": "python",
   "name": "python2"
  },
  "language_info": {
   "codemirror_mode": {
    "name": "ipython",
    "version": 2
   },
   "file_extension": ".py",
   "mimetype": "text/x-python",
   "name": "python",
   "nbconvert_exporter": "python",
   "pygments_lexer": "ipython2",
   "version": "2.7.14"
  }
 },
 "nbformat": 4,
 "nbformat_minor": 2
}
