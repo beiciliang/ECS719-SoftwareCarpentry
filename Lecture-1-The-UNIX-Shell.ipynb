{
 "cells": [
  {
   "cell_type": "markdown",
   "metadata": {},
   "source": [
    "# The UNIX Shell"
   ]
  },
  {
   "cell_type": "markdown",
   "metadata": {},
   "source": [
    "First we need to start a terminal session:\n",
    "\n",
    "in **Finder**, open the **Application** -> **Utilities** folder, double-click **Terminal**.\n",
    "\n",
    "You are seen to the hostname follow by the path where you are and after all that your name.\n",
    "```\n",
    "Last login: DDD MMM XX HH:MM:SS on ttysXXX \n",
    "HOSTNAME:PATH USER$\n",
    "```\n",
    "\n",
    "The `$` sign tells you that it's waiting for commands."
   ]
  },
  {
   "cell_type": "markdown",
   "metadata": {},
   "source": [
    "Before starting this trip a couple of tools that are going to be handy.\n",
    "\n",
    "### TAB key\n",
    "\n",
    "You probably want to type precise commands. For that you can use the embedded auto completion with your `TAB_KEY`.\n",
    "\n",
    "For example,\n",
    "```\n",
    "HOSTNAME:PATH USER$ cd De[TAB_KEY]\n",
    "HOSTNAME:PATH USER$ cd Desktop\n",
    "```\n",
    "\n",
    "### Use history\n",
    "\n",
    "It's good to know how to go back on your steps to take a look of what you have done.\n",
    "\n",
    "- You can use the `history` program:\n",
    "```\n",
    "HOSTNAME:PATH USER$ his[TAB_KEY] \n",
    "HOSTNAME:PATH USER$ history\n",
    "```\n",
    "\n",
    "- Also you can go through your history using the `UP_KEY`:\n",
    "```\n",
    "HOSTNAME:PATH USER$ [UP_KEY]\n",
    "HOSTNAME:PATH USER$ history\n",
    "```\n",
    "\n",
    "### Keyboard shortcuts\n",
    "\n",
    "###### a. Control Process\n",
    "We will talk about process on the future but its good to know this from the beginning\n",
    "\n",
    "* `Ctrl` + `C` Kill whatever you are running \n",
    "\n",
    "* `Ctrl` + `Z` Puts whatever you are running into a suspended background process. `fg` restores it.\n",
    "\n",
    "###### b. Control your entry\n",
    "* `Ctrl` + `D` Exit the current shell\n",
    "\n",
    "* `Ctrl` + `L` Clears the Screen, similar to the clear command\n",
    "\n",
    "* `Ctrl` + `U` Clears the line before the cursor position. If you are at the end of the line, clears the entire line.\n",
    "\n",
    "* `Ctrl` + `A` Go to the beginning of the line you are currently typing on\n",
    "\n",
    "* `Ctrl` + `E` Go to the end of the line you are currently typing on\n",
    "\n",
    "* `Ctrl` + `W` Delete the word before the cursor\n",
    "\n",
    "* `Ctrl` + `K` Clear the line after the cursor\n",
    "\n",
    "* `Ctrl` + `R` Let’s you search through previously used commands\n",
    "\n",
    "* `TAB` Auto-complete files and folder names\n",
    "\n",
    "###### c. Control your terminal\n",
    "\n",
    "* `Cmd` + `N` New Terminal Windows\n",
    "\n",
    "* `Cmd` + `RIGHT` and `Cmd` + `LEFT` Jump between windows\n",
    "\n",
    "* `Cmd` + `[NUMBER]` go directly to the terminal windows [NUMBER]\n",
    "\n",
    "* `Cmd` + `shift` + `w` close Terminal windows\n",
    "\n",
    "* `Cmd` + `t` New Tab Terminal\n",
    "\n",
    "* `Cmd` + `Shift` + `right` and\t`Cmd` + `Shift` + `left` Jump between tabs\n",
    "\n",
    "* `Cmd` + `w` Close Tab\n",
    "\n",
    "* `Cmd` + `up` line up\n",
    "\n",
    "* `Cmd` + `down` line down\n",
    "\n",
    "### Read the manual\n",
    "\n",
    "Unix have a embedded manual. Just type `man` followed by the name of the program and you will get the manual for it. Use key for navigating throughout it and after that press `q` to quit.\n",
    "\n",
    "Generally, commands take the form:  `<command> <options> <parameters>`\n",
    "\n",
    "`<options>` usually being of the form `-x` or `--extract`, `<parameters>` being based on their position."
   ]
  },
  {
   "cell_type": "markdown",
   "metadata": {},
   "source": [
    "** In this lecture, we will introduce some commands on directory structure and filesystem, text wrangling, job controls, and working on EECS servers. **\n",
    "\n",
    "Noted that we can also run a command in this Jupyter Notebook by putting a exclamation mark at the beginning of a cell.\n",
    "\n",
    "For example, to show the contents of the current directory:"
   ]
  },
  {
   "cell_type": "code",
   "execution_count": 7,
   "metadata": {},
   "outputs": [
    {
     "name": "stdout",
     "output_type": "stream",
     "text": [
      "Lecture-1-The-UNIX-Shell.ipynb README.md\r\n"
     ]
    }
   ],
   "source": [
    "!ls"
   ]
  },
  {
   "cell_type": "markdown",
   "metadata": {},
   "source": [
    "This is equivalent to:\n",
    "```\n",
    "HOSTNAME:ECS719-SoftwareCarpentry USER$ ls\n",
    "Lecture-1-The-UNIX-Shell.ipynb\tREADME.md\n",
    "```"
   ]
  },
  {
   "cell_type": "markdown",
   "metadata": {},
   "source": [
    "## 1. Directory Structure and Filesystem\n",
    "\n",
    "The files are located in a tree-like directory structure. All devices and files in UNIX appears in this “file” structure.\n",
    "\n",
    "Where am I now?"
   ]
  },
  {
   "cell_type": "code",
   "execution_count": 8,
   "metadata": {},
   "outputs": [
    {
     "name": "stdout",
     "output_type": "stream",
     "text": [
      "/Users/BeiciLiang/GitHub/ECS719-SoftwareCarpentry\r\n"
     ]
    }
   ],
   "source": [
    "!pwd"
   ]
  },
  {
   "cell_type": "markdown",
   "metadata": {},
   "source": [
    "Folders and subfolders are separated by `/` symbol in UNIX (for Windows it's `\\`).\n",
    "\n",
    "To see the files and directories under the current folder, we can type:"
   ]
  },
  {
   "cell_type": "code",
   "execution_count": 9,
   "metadata": {},
   "outputs": [
    {
     "name": "stdout",
     "output_type": "stream",
     "text": [
      "Lecture-1-The-UNIX-Shell.ipynb README.md\r\n"
     ]
    }
   ],
   "source": [
    "!ls"
   ]
  },
  {
   "cell_type": "markdown",
   "metadata": {},
   "source": [
    "To list files in the root folder, we can do:"
   ]
  },
  {
   "cell_type": "code",
   "execution_count": 11,
   "metadata": {},
   "outputs": [
    {
     "name": "stdout",
     "output_type": "stream",
     "text": [
      "\u001b[34mApplications\u001b[m\u001b[m              \u001b[34manaconda\u001b[m\u001b[m                  \u001b[34mnet\u001b[m\u001b[m\r\n",
      "\u001b[34mLibrary\u001b[m\u001b[m                   \u001b[34mbin\u001b[m\u001b[m                       \u001b[34mopt\u001b[m\u001b[m\r\n",
      "\u001b[34mNetwork\u001b[m\u001b[m                   \u001b[34mcores\u001b[m\u001b[m                     \u001b[34mprivate\u001b[m\u001b[m\r\n",
      "\u001b[34mSystem\u001b[m\u001b[m                    \u001b[34mdev\u001b[m\u001b[m                       \u001b[34msbin\u001b[m\u001b[m\r\n",
      "\u001b[35mUser Information\u001b[m\u001b[m          \u001b[35metc\u001b[m\u001b[m                       \u001b[35mtmp\u001b[m\u001b[m\r\n",
      "\u001b[34mUsers\u001b[m\u001b[m                     \u001b[34mhome\u001b[m\u001b[m                      \u001b[34musr\u001b[m\u001b[m\r\n",
      "\u001b[30m\u001b[42mVolumes\u001b[m\u001b[m                   installer.failurerequests \u001b[35mvar\u001b[m\u001b[m\r\n"
     ]
    }
   ],
   "source": [
    "!ls /"
   ]
  },
  {
   "cell_type": "markdown",
   "metadata": {},
   "source": [
    "Full paths from the root folder are absolute paths, e.g. `/Users/BeiciLiang/GitHub/ECS719-SoftwareCarpentry/Lecture-1-The-UNIX-Shell.ipynb`. \n",
    "\n",
    "Paths from current working directory are relative paths, e.g. `./Lecture-1-The-UNIX-Shell.ipynb`.\n",
    "\n",
    "Generally relative paths are useful within work whereas absolute paths are handy for referring to standard files.\n",
    "\n",
    "Folder abbreviations:\n",
    "\n",
    "- Current folder: `.`\n",
    "\n",
    "- Parent folder: `..`\n",
    "\n",
    "- Home folder: `~`\n",
    "\n",
    "A user's home folder on a Mac is: `/Users/username`\n",
    "On Linux it would be: `/home/username`"
   ]
  },
  {
   "cell_type": "markdown",
   "metadata": {},
   "source": [
    "To creat a new directory:"
   ]
  },
  {
   "cell_type": "code",
   "execution_count": 36,
   "metadata": {},
   "outputs": [],
   "source": [
    "!mkdir demofolder"
   ]
  },
  {
   "cell_type": "code",
   "execution_count": 53,
   "metadata": {},
   "outputs": [
    {
     "name": "stdout",
     "output_type": "stream",
     "text": [
      "Lecture-1-The-UNIX-Shell.ipynb \u001b[34mdemofolder\u001b[m\u001b[m\r\n",
      "README.md\r\n"
     ]
    }
   ],
   "source": [
    "!ls"
   ]
  },
  {
   "cell_type": "markdown",
   "metadata": {},
   "source": [
    "Moves you to the new directory:"
   ]
  },
  {
   "cell_type": "code",
   "execution_count": 54,
   "metadata": {},
   "outputs": [],
   "source": [
    "!cd demofolder"
   ]
  },
  {
   "cell_type": "markdown",
   "metadata": {},
   "source": [
    "In terms of editing files, there are many choices of text editors\n",
    "\n",
    "- `nano` is easy to use if not particularly powerful\n",
    "- `vi` and `emacs` for power users\n",
    "- or launch your favourite GUI editor, such as SublimeText, TextWrangler, etc."
   ]
  },
  {
   "cell_type": "markdown",
   "metadata": {},
   "source": [
    "We can concatenate a file to display it in terminal:"
   ]
  },
  {
   "cell_type": "code",
   "execution_count": 60,
   "metadata": {},
   "outputs": [
    {
     "name": "stdout",
     "output_type": "stream",
     "text": [
      "Andrew, 0207623512\r\n",
      "Bob, 02089462713\r\n",
      "Chris, 0201234567\r\n",
      "Dave, 0207654321\r\n",
      "Ed, 02089012345\r\n"
     ]
    }
   ],
   "source": [
    "!cat demofile1.txt"
   ]
  },
  {
   "cell_type": "markdown",
   "metadata": {},
   "source": [
    "Display the first or last 2 lines:"
   ]
  },
  {
   "cell_type": "code",
   "execution_count": 61,
   "metadata": {},
   "outputs": [
    {
     "name": "stdout",
     "output_type": "stream",
     "text": [
      "Andrew, 0207623512\r\n",
      "Bob, 02089462713\r\n"
     ]
    }
   ],
   "source": [
    "!head -n 2 demofile1.txt"
   ]
  },
  {
   "cell_type": "code",
   "execution_count": 62,
   "metadata": {},
   "outputs": [
    {
     "name": "stdout",
     "output_type": "stream",
     "text": [
      "Dave, 0207654321\r\n",
      "Ed, 02089012345\r\n"
     ]
    }
   ],
   "source": [
    "!tail -n 2 demofile1.txt"
   ]
  },
  {
   "cell_type": "markdown",
   "metadata": {},
   "source": [
    "To copy a file:"
   ]
  },
  {
   "cell_type": "code",
   "execution_count": 63,
   "metadata": {},
   "outputs": [],
   "source": [
    "!cp demofile1.txt demofile2.txt"
   ]
  },
  {
   "cell_type": "markdown",
   "metadata": {},
   "source": [
    "In order to copy a folder and all of its contents, we need to do a recursive copy that also copies the contents of all the subfolders:\n",
    "```\n",
    "cp -R FOLDER1 FOLDER2\n",
    "```\n",
    "\n",
    "To move the location of or renames a file/directory:\n",
    "```\n",
    "mv FILE1 FILE2\n",
    "```\n",
    "\n",
    "In contrast, to remove a file:\n",
    "```\n",
    "rm FILE\n",
    "```\n",
    "\n",
    "to remove a directory:\n",
    "```\n",
    "rmdir FOLDER\n",
    "```"
   ]
  },
  {
   "cell_type": "markdown",
   "metadata": {},
   "source": [
    "Now we can concatenate our two files with `cat`:"
   ]
  },
  {
   "cell_type": "code",
   "execution_count": 64,
   "metadata": {},
   "outputs": [
    {
     "name": "stdout",
     "output_type": "stream",
     "text": [
      "Andrew, 0207623512\r\n",
      "Bob, 02089462713\r\n",
      "Chris, 0201234567\r\n",
      "Dave, 0207654321\r\n",
      "Ed, 02089012345\r\n",
      "Andrew, 0207623512\r\n",
      "Bob, 02089462713\r\n",
      "Chris, 0201234567\r\n",
      "Dave, 0207654321\r\n",
      "Ed, 02089012345\r\n"
     ]
    }
   ],
   "source": [
    "!cat demofile1.txt demofile2.txt"
   ]
  },
  {
   "cell_type": "markdown",
   "metadata": {},
   "source": [
    "We can also redirect the output of a command to a file using the `>` symbol:"
   ]
  },
  {
   "cell_type": "code",
   "execution_count": 66,
   "metadata": {},
   "outputs": [],
   "source": [
    "!cat demofile1.txt demofile2.txt > demofile.txt"
   ]
  },
  {
   "cell_type": "markdown",
   "metadata": {},
   "source": [
    "## 2. Text Wrangling\n",
    "\n",
    "To get the newline count, word count, and byte count for a file, we can use:"
   ]
  },
  {
   "cell_type": "code",
   "execution_count": 72,
   "metadata": {},
   "outputs": [
    {
     "name": "stdout",
     "output_type": "stream",
     "text": [
      "      10      20     174 demofile.txt\r\n"
     ]
    }
   ],
   "source": [
    "!wc demofile.txt"
   ]
  },
  {
   "cell_type": "markdown",
   "metadata": {},
   "source": [
    "To sort the line in a file into order:"
   ]
  },
  {
   "cell_type": "code",
   "execution_count": 71,
   "metadata": {},
   "outputs": [
    {
     "name": "stdout",
     "output_type": "stream",
     "text": [
      "Andrew, 0207623512\r\n",
      "Andrew, 0207623512\r\n",
      "Bob, 02089462713\r\n",
      "Bob, 02089462713\r\n",
      "Chris, 0201234567\r\n",
      "Chris, 0201234567\r\n",
      "Dave, 0207654321\r\n",
      "Dave, 0207654321\r\n",
      "Ed, 02089012345\r\n",
      "Ed, 02089012345\r\n"
     ]
    }
   ],
   "source": [
    "!sort demofile.txt"
   ]
  },
  {
   "cell_type": "markdown",
   "metadata": {},
   "source": [
    "This does not change the file itself, to save the output we can redirect the output from the terminal to a file:"
   ]
  },
  {
   "cell_type": "code",
   "execution_count": 73,
   "metadata": {},
   "outputs": [],
   "source": [
    "!sort demofile.txt > demofile_sorted.txt"
   ]
  },
  {
   "cell_type": "markdown",
   "metadata": {},
   "source": [
    "To output a file without duplicate lines can use:"
   ]
  },
  {
   "cell_type": "code",
   "execution_count": 74,
   "metadata": {},
   "outputs": [
    {
     "name": "stdout",
     "output_type": "stream",
     "text": [
      "Andrew, 0207623512\r\n",
      "Bob, 02089462713\r\n",
      "Chris, 0201234567\r\n",
      "Dave, 0207654321\r\n",
      "Ed, 02089012345\r\n"
     ]
    }
   ],
   "source": [
    "!uniq demofile_sorted.txt"
   ]
  },
  {
   "cell_type": "markdown",
   "metadata": {},
   "source": [
    "Therefore, to sort a file and then output just the unique lines, we can use the `|` symbol to type commands together:"
   ]
  },
  {
   "cell_type": "code",
   "execution_count": 77,
   "metadata": {},
   "outputs": [],
   "source": [
    "!sort demofile.txt | uniq > demofile_sorted_uniq.txt"
   ]
  },
  {
   "cell_type": "markdown",
   "metadata": {},
   "source": [
    "To format data into columns we can use the `column` command:"
   ]
  },
  {
   "cell_type": "code",
   "execution_count": 78,
   "metadata": {},
   "outputs": [
    {
     "name": "stdout",
     "output_type": "stream",
     "text": [
      "Andrew   0207623512\r\n",
      "Bob      02089462713\r\n",
      "Chris    0201234567\r\n",
      "Dave     0207654321\r\n",
      "Ed       02089012345\r\n"
     ]
    }
   ],
   "source": [
    "!column -t -s, demofile_sorted_uniq.txt"
   ]
  },
  {
   "cell_type": "markdown",
   "metadata": {},
   "source": [
    "To search for a text string in files, we can use `grep`, which stands for \"global regular expression print,\" processes text line by line and prints any lines which match a specified pattern. For example, search for `Bob` in `demofile.txt`: "
   ]
  },
  {
   "cell_type": "code",
   "execution_count": 83,
   "metadata": {},
   "outputs": [
    {
     "name": "stdout",
     "output_type": "stream",
     "text": [
      "Bob, 02089462713\r\n",
      "Bob, 02089462713\r\n"
     ]
    }
   ],
   "source": [
    "!grep Bob demofile.txt"
   ]
  },
  {
   "cell_type": "markdown",
   "metadata": {},
   "source": [
    "If we have multiple files to search, we can search them all using a wildcard in our FILE name. Instead of specifying `demofile.txt`, we can use an asterisk `*` and the `.txt` extension. When the command is executed, the shell will expand the asterisk to the name of any file it finds (within the current directory) which ends in `.txt`."
   ]
  },
  {
   "cell_type": "code",
   "execution_count": 84,
   "metadata": {},
   "outputs": [
    {
     "name": "stdout",
     "output_type": "stream",
     "text": [
      "demofile.txt:Bob, 02089462713\r\n",
      "demofile.txt:Bob, 02089462713\r\n",
      "demofile1.txt:Bob, 02089462713\r\n",
      "demofile2.txt:Bob, 02089462713\r\n",
      "demofile_sorted.txt:Bob, 02089462713\r\n",
      "demofile_sorted.txt:Bob, 02089462713\r\n",
      "demofile_sorted_uniq.txt:Bob, 02089462713\r\n"
     ]
    }
   ],
   "source": [
    "!grep Bob *.txt"
   ]
  },
  {
   "cell_type": "markdown",
   "metadata": {},
   "source": [
    "Noted that you can use [regular expressions](https://en.wikipedia.org/wiki/Regular_expression) to perform more powerful searches!"
   ]
  },
  {
   "cell_type": "markdown",
   "metadata": {},
   "source": [
    "## 3. Job Controls\n",
    "\n",
    "When you execute a script or command that takes a long time, you can run it as a background job.  \n",
    "\n",
    "To execute a background job, just append an ampersand `&` to the command. For example, use the `ping` command to test the connection between your computer and google in the background, and send the outputs into a file:\n",
    "```\n",
    "ping www.google.com > ./tempfile.txt &\n",
    "```\n",
    "\n",
    "You can also send an already running foreground job to background as explained below:\n",
    "\n",
    "- Press `CTRL`+`Z` which will suspend the current foreground job.\n",
    "\n",
    "- Execute `bg` to make that command to execute in background.\n",
    "\n",
    "Using the same `ping` example:\n",
    "\n",
    "```\n",
    "ping www.google.com > ./tempfile.txt\n",
    "[CTRL+Z]\n",
    "[1]+  Stopped                 ping www.google.com > ./tempfile.txt\n",
    "bg\n",
    "[1]+ ping www.google.com > ./tempfile.txt &\n",
    "```\n",
    "\n",
    "You can list out the background jobs with the command `jobs`. For example:\n",
    "```\n",
    "jobs\n",
    "[1]+  Running                 ping www.google.com > ./tempfile.txt &\n",
    "```\n",
    "\n",
    "The `[ ]` numbers are the job numbers that `bg` (background), `fg` (foreground), and `kill` can use.\n",
    "\n",
    "A background job can be brought to the foreground with the command `fg`. For example:\n",
    "```\n",
    "fg %1\n",
    "```\n",
    "\n",
    "To kill a background job, we can use `kill %JOB_NUMBER`. \n",
    "\n",
    "This capability of sending jobs to background or foreground it's really handy, but if you are logging on and off all the time it's gets difficult. That's why there is a very powerful application it will take you in a completely new different level. It's call `screen` and is more complex. Please [check this article](https://www.ibm.com/developerworks/aix/library/au-gnu_screen/index.html) for further reading on `screen`."
   ]
  },
  {
   "cell_type": "markdown",
   "metadata": {},
   "source": [
    "## 4. Working on the EECS severs\n",
    "\n",
    "There is a list of [EECS compute severs](http://support.eecs.qmul.ac.uk/research-computing/compute-servers-2/) (only viewable from within the QM network).\n",
    "\n",
    "There are several reasons why working on the servers is useful:\n",
    "\n",
    "- you can do other work on your own computer;\n",
    "\n",
    "- leave code running and come back later for the answers;\n",
    "\n",
    "- make use of the cores and ram that server has.\n",
    "\n",
    "The first step is to connect to the sever. If you are outside of the EECS network then you will need to `ssh` via frank: \n",
    "```\n",
    "ssh YOUR_EECS_USERNAME@frank.eecs.qmul.ac.uk\n",
    "```\n",
    "\n",
    "After entering your password, you are connected to frank, which is virtual and used as a bridge to connect to other servers. From here, you can log onto a server from the list above by:\n",
    "```\n",
    "ssh YOUR_EECS_USERNAME@SERVER_NAME.eecs.qmul.ac.uk\n",
    "```\n",
    "\n",
    "You will be in your home directory. From here you will need to go to the folder where your code is and run your script!"
   ]
  },
  {
   "cell_type": "code",
   "execution_count": null,
   "metadata": {},
   "outputs": [],
   "source": []
  }
 ],
 "metadata": {
  "kernelspec": {
   "display_name": "Python 2",
   "language": "python",
   "name": "python2"
  },
  "language_info": {
   "codemirror_mode": {
    "name": "ipython",
    "version": 2
   },
   "file_extension": ".py",
   "mimetype": "text/x-python",
   "name": "python",
   "nbconvert_exporter": "python",
   "pygments_lexer": "ipython2",
   "version": "2.7.14"
  }
 },
 "nbformat": 4,
 "nbformat_minor": 2
}
