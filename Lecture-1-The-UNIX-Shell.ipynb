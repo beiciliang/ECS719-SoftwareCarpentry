{
 "cells": [
  {
   "cell_type": "markdown",
   "metadata": {},
   "source": [
    "# The UNIX Shell"
   ]
  },
  {
   "cell_type": "markdown",
   "metadata": {},
   "source": [
    "First we need to start a terminal session:\n",
    "\n",
    "in **Finder**, open the **Application** -> **Utilities** folder, double-click **Terminal**.\n",
    "\n",
    "You are seen to the hostname follow by the path where you are and after all that your name.\n",
    "```\n",
    "Last login: DDD MMM XX HH:MM:SS on ttysXXX \n",
    "HOSTNAME:PATH USER$\n",
    "```\n",
    "\n",
    "The `$` sign tells you that it's waiting for commands."
   ]
  },
  {
   "cell_type": "markdown",
   "metadata": {},
   "source": [
    "Before starting this trip a couple of tools that are going to be handy.\n",
    "\n",
    "### TAB key\n",
    "\n",
    "You probably want to type precise commands. For that you can use the embedded auto completion with your `TAB_KEY`.\n",
    "\n",
    "For example,\n",
    "```\n",
    "HOSTNAME:PATH USER$ cd De[TAB_KEY]\n",
    "HOSTNAME:PATH USER$ cd Desktop\n",
    "```\n",
    "\n",
    "### Use history\n",
    "\n",
    "It's good to know how to go back on your steps to take a look of what you have done.\n",
    "\n",
    "- You can use the `history` program:\n",
    "```\n",
    "HOSTNAME:PATH USER$ his[TAB_KEY] \n",
    "HOSTNAME:PATH USER$ history\n",
    "```\n",
    "\n",
    "- Also you can go through your history using the `UP_KEY`:\n",
    "```\n",
    "HOSTNAME:PATH USER$ [UP_KEY]\n",
    "HOSTNAME:PATH USER$ history\n",
    "```\n",
    "\n",
    "### Keyboard shortcuts\n",
    "\n",
    "###### a. Control Process\n",
    "We will talk about process on the future but its good to know this from the beginning\n",
    "\n",
    "* `Ctrl` + `C` Kill whatever you are running \n",
    "\n",
    "* `Ctrl` + `Z` Puts whatever you are running into a suspended background process. `fg` restores it.\n",
    "\n",
    "###### b. Control your entry\n",
    "* `Ctrl` + `D` Exit the current shell\n",
    "\n",
    "* `Ctrl` + `L` Clears the Screen, similar to the clear command\n",
    "\n",
    "* `Ctrl` + `U` Clears the line before the cursor position. If you are at the end of the line, clears the entire line.\n",
    "\n",
    "* `Ctrl` + `A` Go to the beginning of the line you are currently typing on\n",
    "\n",
    "* `Ctrl` + `E` Go to the end of the line you are currently typing on\n",
    "\n",
    "* `Ctrl` + `W` Delete the word before the cursor\n",
    "\n",
    "* `Ctrl` + `K` Clear the line after the cursor\n",
    "\n",
    "* `Ctrl` + `R` Let’s you search through previously used commands\n",
    "\n",
    "* `TAB` Auto-complete files and folder names\n",
    "\n",
    "###### c. Control your terminal\n",
    "\n",
    "* `Cmd` + `N` New Terminal Windows\n",
    "\n",
    "* `Cmd` + `RIGHT` and `Cmd` + `LEFT` Jump between windows\n",
    "\n",
    "* `Cmd` + `[NUMBER]` go directly to the terminal windows [NUMBER]\n",
    "\n",
    "* `Cmd` + `shift` + `w` close Terminal windows\n",
    "\n",
    "* `Cmd` + `t` New Tab Terminal\n",
    "\n",
    "* `Cmd` + `Shift` + `right` and\t`Cmd` + `Shift` + `left` Jump between tabs\n",
    "\n",
    "* `Cmd` + `w` Close Tab\n",
    "\n",
    "* `Cmd` + `up` line up\n",
    "\n",
    "* `Cmd` + `down` line down\n",
    "\n",
    "### Read the manual\n",
    "\n",
    "Unix systems are designed for engineers as all they do the makes manuals for it. Unix have a embedded manual. Just type `man` followed by the name of the program and you will get the manual for it. Use key for navigate throughout it and after that press `q` to quit.\n",
    "\n",
    "Generally, commands take the form:  `<command> <options> <parameters>`\n",
    "\n",
    "`<options>` usually being of the form `-x` or `-extract`, `<parameters>` being based on their position."
   ]
  },
  {
   "cell_type": "markdown",
   "metadata": {},
   "source": [
    "** We will introduce some commands on directory structure and filesystem, text wrangling, job controls, and working on EECS servers. **\n",
    "\n",
    "Noted that we can also run a command in this Jupyter Notebook by putting a exclamation mark at the beginning of a cell.\n",
    "\n",
    "For example, to show the contents of the current directory:"
   ]
  },
  {
   "cell_type": "code",
   "execution_count": 7,
   "metadata": {},
   "outputs": [
    {
     "name": "stdout",
     "output_type": "stream",
     "text": [
      "Lecture-1-The-UNIX-Shell.ipynb README.md\r\n"
     ]
    }
   ],
   "source": [
    "!ls"
   ]
  },
  {
   "cell_type": "markdown",
   "metadata": {},
   "source": [
    "This is equivalent to:\n",
    "```\n",
    "HOSTNAME:ECS719-SoftwareCarpentry USER$ ls\n",
    "Lecture-1-The-UNIX-Shell.ipynb\tREADME.md\n",
    "```"
   ]
  },
  {
   "cell_type": "markdown",
   "metadata": {},
   "source": [
    "## 1. Directory Structure and Filesystem\n",
    "\n",
    "The files are located in a tree-like directory structure. All devices and files in UNIX appears in this “file” structure.\n",
    "\n",
    "Where am I now?"
   ]
  },
  {
   "cell_type": "code",
   "execution_count": 8,
   "metadata": {},
   "outputs": [
    {
     "name": "stdout",
     "output_type": "stream",
     "text": [
      "/Users/BeiciLiang/GitHub/ECS719-SoftwareCarpentry\r\n"
     ]
    }
   ],
   "source": [
    "!pwd"
   ]
  },
  {
   "cell_type": "markdown",
   "metadata": {},
   "source": [
    "Folders and subfolders are separated by `/` symbol in UNIX (for Windows it's `\\`).\n",
    "\n",
    "To see the files and directories under the current folder, we can type:"
   ]
  },
  {
   "cell_type": "code",
   "execution_count": 9,
   "metadata": {},
   "outputs": [
    {
     "name": "stdout",
     "output_type": "stream",
     "text": [
      "Lecture-1-The-UNIX-Shell.ipynb README.md\r\n"
     ]
    }
   ],
   "source": [
    "!ls"
   ]
  },
  {
   "cell_type": "markdown",
   "metadata": {},
   "source": [
    "To list files in the root folder, we can do:"
   ]
  },
  {
   "cell_type": "code",
   "execution_count": 11,
   "metadata": {},
   "outputs": [
    {
     "name": "stdout",
     "output_type": "stream",
     "text": [
      "\u001b[34mApplications\u001b[m\u001b[m              \u001b[34manaconda\u001b[m\u001b[m                  \u001b[34mnet\u001b[m\u001b[m\r\n",
      "\u001b[34mLibrary\u001b[m\u001b[m                   \u001b[34mbin\u001b[m\u001b[m                       \u001b[34mopt\u001b[m\u001b[m\r\n",
      "\u001b[34mNetwork\u001b[m\u001b[m                   \u001b[34mcores\u001b[m\u001b[m                     \u001b[34mprivate\u001b[m\u001b[m\r\n",
      "\u001b[34mSystem\u001b[m\u001b[m                    \u001b[34mdev\u001b[m\u001b[m                       \u001b[34msbin\u001b[m\u001b[m\r\n",
      "\u001b[35mUser Information\u001b[m\u001b[m          \u001b[35metc\u001b[m\u001b[m                       \u001b[35mtmp\u001b[m\u001b[m\r\n",
      "\u001b[34mUsers\u001b[m\u001b[m                     \u001b[34mhome\u001b[m\u001b[m                      \u001b[34musr\u001b[m\u001b[m\r\n",
      "\u001b[30m\u001b[42mVolumes\u001b[m\u001b[m                   installer.failurerequests \u001b[35mvar\u001b[m\u001b[m\r\n"
     ]
    }
   ],
   "source": [
    "!ls /"
   ]
  },
  {
   "cell_type": "markdown",
   "metadata": {},
   "source": [
    "Full paths from the root folder are absolute paths.\n",
    "\n",
    "Paths from current working directory are relative paths.\n",
    "\n",
    "Generally relative paths are useful within work whereas absolute paths are handy for referring to standard files.\n",
    "\n",
    "Folder abbreviations:\n",
    "\n",
    "- Current folder: `.`\n",
    "\n",
    "- Parent folder: `..`\n",
    "\n",
    "- Home folder: `~`\n",
    "\n",
    "A user's home folder on a Mac is: `/Users/username`\n",
    "On Linux it would be: `/home/username`"
   ]
  },
  {
   "cell_type": "markdown",
   "metadata": {},
   "source": [
    "To creat a new directory:"
   ]
  },
  {
   "cell_type": "code",
   "execution_count": 36,
   "metadata": {},
   "outputs": [],
   "source": [
    "!mkdir demofolder"
   ]
  },
  {
   "cell_type": "code",
   "execution_count": 53,
   "metadata": {},
   "outputs": [
    {
     "name": "stdout",
     "output_type": "stream",
     "text": [
      "Lecture-1-The-UNIX-Shell.ipynb \u001b[34mdemofolder\u001b[m\u001b[m\r\n",
      "README.md\r\n"
     ]
    }
   ],
   "source": [
    "!ls"
   ]
  },
  {
   "cell_type": "markdown",
   "metadata": {},
   "source": [
    "Moves you to the new directory:"
   ]
  },
  {
   "cell_type": "code",
   "execution_count": 54,
   "metadata": {},
   "outputs": [],
   "source": [
    "!cd demofolder"
   ]
  },
  {
   "cell_type": "markdown",
   "metadata": {},
   "source": [
    "In terms of editing files, there are many choices of text editors\n",
    "\n",
    "- `nano` is easy to use if not particularly powerful\n",
    "- `vi` and `emacs` for power users\n",
    "- or launch your favourite GUI editor, such as SublimeText, TextWrangler, etc."
   ]
  },
  {
   "cell_type": "markdown",
   "metadata": {},
   "source": [
    "We can concatenate a file to display it in terminal:"
   ]
  },
  {
   "cell_type": "code",
   "execution_count": 60,
   "metadata": {},
   "outputs": [
    {
     "name": "stdout",
     "output_type": "stream",
     "text": [
      "Andrew, 0207623512\r\n",
      "Bob, 02089462713\r\n",
      "Chris, 0201234567\r\n",
      "Dave, 0207654321\r\n",
      "Ed, 02089012345\r\n"
     ]
    }
   ],
   "source": [
    "!cat demofile1.txt"
   ]
  },
  {
   "cell_type": "markdown",
   "metadata": {},
   "source": [
    "Display the first or last 2 lines:"
   ]
  },
  {
   "cell_type": "code",
   "execution_count": 61,
   "metadata": {},
   "outputs": [
    {
     "name": "stdout",
     "output_type": "stream",
     "text": [
      "Andrew, 0207623512\r\n",
      "Bob, 02089462713\r\n"
     ]
    }
   ],
   "source": [
    "!head -n 2 demofile1.txt"
   ]
  },
  {
   "cell_type": "code",
   "execution_count": 62,
   "metadata": {},
   "outputs": [
    {
     "name": "stdout",
     "output_type": "stream",
     "text": [
      "Dave, 0207654321\r\n",
      "Ed, 02089012345\r\n"
     ]
    }
   ],
   "source": [
    "!tail -n 2 demofile1.txt"
   ]
  },
  {
   "cell_type": "code",
   "execution_count": null,
   "metadata": {},
   "outputs": [],
   "source": []
  }
 ],
 "metadata": {
  "kernelspec": {
   "display_name": "Python 2",
   "language": "python",
   "name": "python2"
  },
  "language_info": {
   "codemirror_mode": {
    "name": "ipython",
    "version": 2
   },
   "file_extension": ".py",
   "mimetype": "text/x-python",
   "name": "python",
   "nbconvert_exporter": "python",
   "pygments_lexer": "ipython2",
   "version": "2.7.14"
  }
 },
 "nbformat": 4,
 "nbformat_minor": 2
}
